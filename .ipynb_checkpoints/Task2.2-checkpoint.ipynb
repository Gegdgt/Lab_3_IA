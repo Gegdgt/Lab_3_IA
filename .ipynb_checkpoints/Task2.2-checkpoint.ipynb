{
 "cells": [
  {
   "cell_type": "markdown",
   "id": "1cfe0d52-fbfe-4152-a4ca-70b64cdba675",
   "metadata": {},
   "source": [
    "## Laboratorio 2"
   ]
  },
  {
   "cell_type": "markdown",
   "id": "b584e297-4a48-4266-8bc4-303d1328b0bd",
   "metadata": {},
   "source": [
    "### Task 2.2"
   ]
  },
  {
   "cell_type": "markdown",
   "id": "1de138dd-f670-4ddd-89c8-52d41f6e554d",
   "metadata": {},
   "source": [
    "- Diego Alberto Leiva     21750\n",
    "- Gabriel Estuardo García 21352\n",
    "- José Pablo Orellana     21970"
   ]
  },
  {
   "cell_type": "code",
   "execution_count": 2,
   "id": "b42b0e33-3cd3-4321-b7fa-27ab41fc68fc",
   "metadata": {},
   "outputs": [],
   "source": [
    "import numpy as np\n",
    "import pandas as pd\n",
    "import matplotlib.pyplot as plt\n",
    "import seaborn as sns\n",
    "from sklearn.preprocessing import StandardScaler\n",
    "from sklearn.model_selection import train_test_split\n",
    "from sklearn.ensemble import RandomForestClassifier\n",
    "from sklearn.metrics import accuracy_score, precision_score, recall_score, f1_score, confusion_matrix\n",
    "from sklearn.decomposition import PCA\n",
    "from sklearn.svm import SVC\n",
    "from sklearn.feature_selection import SelectKBest, f_classif"
   ]
  },
  {
   "cell_type": "markdown",
   "id": "f5a00826-7eae-4c73-9c32-617198eddbe8",
   "metadata": {},
   "source": [
    "Abrir y definir el dataset"
   ]
  },
  {
   "cell_type": "code",
   "execution_count": 3,
   "id": "3f9548cc-2efe-4950-a321-5b03a30a4fc6",
   "metadata": {},
   "outputs": [],
   "source": [
    "df = pd.read_csv(\"loldataset.csv\", sep=\",\")"
   ]
  },
  {
   "cell_type": "markdown",
   "id": "98dbf5ae-3cc9-4313-9b3d-9326fb26a9ae",
   "metadata": {},
   "source": [
    "Vista del dataset"
   ]
  },
  {
   "cell_type": "code",
   "execution_count": 4,
   "id": "6f4c163d-5034-4a4c-9c31-d1346001ab71",
   "metadata": {},
   "outputs": [
    {
     "name": "stdin",
     "output_type": "stream",
     "text": [
      "ingrese el numero de rows: 5\n"
     ]
    },
    {
     "data": {
      "text/html": [
       "<div>\n",
       "<style scoped>\n",
       "    .dataframe tbody tr th:only-of-type {\n",
       "        vertical-align: middle;\n",
       "    }\n",
       "\n",
       "    .dataframe tbody tr th {\n",
       "        vertical-align: top;\n",
       "    }\n",
       "\n",
       "    .dataframe thead th {\n",
       "        text-align: right;\n",
       "    }\n",
       "</style>\n",
       "<table border=\"1\" class=\"dataframe\">\n",
       "  <thead>\n",
       "    <tr style=\"text-align: right;\">\n",
       "      <th></th>\n",
       "      <th>gameId</th>\n",
       "      <th>blueWins</th>\n",
       "      <th>blueWardsPlaced</th>\n",
       "      <th>blueWardsDestroyed</th>\n",
       "      <th>blueFirstBlood</th>\n",
       "      <th>blueKills</th>\n",
       "      <th>blueDeaths</th>\n",
       "      <th>blueAssists</th>\n",
       "      <th>blueEliteMonsters</th>\n",
       "      <th>blueDragons</th>\n",
       "      <th>...</th>\n",
       "      <th>redTowersDestroyed</th>\n",
       "      <th>redTotalGold</th>\n",
       "      <th>redAvgLevel</th>\n",
       "      <th>redTotalExperience</th>\n",
       "      <th>redTotalMinionsKilled</th>\n",
       "      <th>redTotalJungleMinionsKilled</th>\n",
       "      <th>redGoldDiff</th>\n",
       "      <th>redExperienceDiff</th>\n",
       "      <th>redCSPerMin</th>\n",
       "      <th>redGoldPerMin</th>\n",
       "    </tr>\n",
       "  </thead>\n",
       "  <tbody>\n",
       "    <tr>\n",
       "      <th>0</th>\n",
       "      <td>4519157822</td>\n",
       "      <td>0</td>\n",
       "      <td>28</td>\n",
       "      <td>2</td>\n",
       "      <td>1</td>\n",
       "      <td>9</td>\n",
       "      <td>6</td>\n",
       "      <td>11</td>\n",
       "      <td>0</td>\n",
       "      <td>0</td>\n",
       "      <td>...</td>\n",
       "      <td>0</td>\n",
       "      <td>16567</td>\n",
       "      <td>6.8</td>\n",
       "      <td>17047</td>\n",
       "      <td>197</td>\n",
       "      <td>55</td>\n",
       "      <td>-643</td>\n",
       "      <td>8</td>\n",
       "      <td>19.7</td>\n",
       "      <td>1656.7</td>\n",
       "    </tr>\n",
       "    <tr>\n",
       "      <th>1</th>\n",
       "      <td>4523371949</td>\n",
       "      <td>0</td>\n",
       "      <td>12</td>\n",
       "      <td>1</td>\n",
       "      <td>0</td>\n",
       "      <td>5</td>\n",
       "      <td>5</td>\n",
       "      <td>5</td>\n",
       "      <td>0</td>\n",
       "      <td>0</td>\n",
       "      <td>...</td>\n",
       "      <td>1</td>\n",
       "      <td>17620</td>\n",
       "      <td>6.8</td>\n",
       "      <td>17438</td>\n",
       "      <td>240</td>\n",
       "      <td>52</td>\n",
       "      <td>2908</td>\n",
       "      <td>1173</td>\n",
       "      <td>24.0</td>\n",
       "      <td>1762.0</td>\n",
       "    </tr>\n",
       "    <tr>\n",
       "      <th>2</th>\n",
       "      <td>4521474530</td>\n",
       "      <td>0</td>\n",
       "      <td>15</td>\n",
       "      <td>0</td>\n",
       "      <td>0</td>\n",
       "      <td>7</td>\n",
       "      <td>11</td>\n",
       "      <td>4</td>\n",
       "      <td>1</td>\n",
       "      <td>1</td>\n",
       "      <td>...</td>\n",
       "      <td>0</td>\n",
       "      <td>17285</td>\n",
       "      <td>6.8</td>\n",
       "      <td>17254</td>\n",
       "      <td>203</td>\n",
       "      <td>28</td>\n",
       "      <td>1172</td>\n",
       "      <td>1033</td>\n",
       "      <td>20.3</td>\n",
       "      <td>1728.5</td>\n",
       "    </tr>\n",
       "    <tr>\n",
       "      <th>3</th>\n",
       "      <td>4524384067</td>\n",
       "      <td>0</td>\n",
       "      <td>43</td>\n",
       "      <td>1</td>\n",
       "      <td>0</td>\n",
       "      <td>4</td>\n",
       "      <td>5</td>\n",
       "      <td>5</td>\n",
       "      <td>1</td>\n",
       "      <td>0</td>\n",
       "      <td>...</td>\n",
       "      <td>0</td>\n",
       "      <td>16478</td>\n",
       "      <td>7.0</td>\n",
       "      <td>17961</td>\n",
       "      <td>235</td>\n",
       "      <td>47</td>\n",
       "      <td>1321</td>\n",
       "      <td>7</td>\n",
       "      <td>23.5</td>\n",
       "      <td>1647.8</td>\n",
       "    </tr>\n",
       "    <tr>\n",
       "      <th>4</th>\n",
       "      <td>4436033771</td>\n",
       "      <td>0</td>\n",
       "      <td>75</td>\n",
       "      <td>4</td>\n",
       "      <td>0</td>\n",
       "      <td>6</td>\n",
       "      <td>6</td>\n",
       "      <td>6</td>\n",
       "      <td>0</td>\n",
       "      <td>0</td>\n",
       "      <td>...</td>\n",
       "      <td>0</td>\n",
       "      <td>17404</td>\n",
       "      <td>7.0</td>\n",
       "      <td>18313</td>\n",
       "      <td>225</td>\n",
       "      <td>67</td>\n",
       "      <td>1004</td>\n",
       "      <td>-230</td>\n",
       "      <td>22.5</td>\n",
       "      <td>1740.4</td>\n",
       "    </tr>\n",
       "  </tbody>\n",
       "</table>\n",
       "<p>5 rows × 40 columns</p>\n",
       "</div>"
      ],
      "text/plain": [
       "       gameId  blueWins  blueWardsPlaced  blueWardsDestroyed  blueFirstBlood  \\\n",
       "0  4519157822         0               28                   2               1   \n",
       "1  4523371949         0               12                   1               0   \n",
       "2  4521474530         0               15                   0               0   \n",
       "3  4524384067         0               43                   1               0   \n",
       "4  4436033771         0               75                   4               0   \n",
       "\n",
       "   blueKills  blueDeaths  blueAssists  blueEliteMonsters  blueDragons  ...  \\\n",
       "0          9           6           11                  0            0  ...   \n",
       "1          5           5            5                  0            0  ...   \n",
       "2          7          11            4                  1            1  ...   \n",
       "3          4           5            5                  1            0  ...   \n",
       "4          6           6            6                  0            0  ...   \n",
       "\n",
       "   redTowersDestroyed  redTotalGold  redAvgLevel  redTotalExperience  \\\n",
       "0                   0         16567          6.8               17047   \n",
       "1                   1         17620          6.8               17438   \n",
       "2                   0         17285          6.8               17254   \n",
       "3                   0         16478          7.0               17961   \n",
       "4                   0         17404          7.0               18313   \n",
       "\n",
       "   redTotalMinionsKilled  redTotalJungleMinionsKilled  redGoldDiff  \\\n",
       "0                    197                           55         -643   \n",
       "1                    240                           52         2908   \n",
       "2                    203                           28         1172   \n",
       "3                    235                           47         1321   \n",
       "4                    225                           67         1004   \n",
       "\n",
       "   redExperienceDiff  redCSPerMin  redGoldPerMin  \n",
       "0                  8         19.7         1656.7  \n",
       "1               1173         24.0         1762.0  \n",
       "2               1033         20.3         1728.5  \n",
       "3                  7         23.5         1647.8  \n",
       "4               -230         22.5         1740.4  \n",
       "\n",
       "[5 rows x 40 columns]"
      ]
     },
     "execution_count": 4,
     "metadata": {},
     "output_type": "execute_result"
    }
   ],
   "source": [
    "n = int(input(\"ingrese el numero de rows:\"))\n",
    "df.head(n)"
   ]
  },
  {
   "cell_type": "markdown",
   "id": "02db030f-5070-461d-bdf7-17d50e59a399",
   "metadata": {},
   "source": [
    "Informacion del dataset"
   ]
  },
  {
   "cell_type": "code",
   "execution_count": 5,
   "id": "734d0b44-b253-4eb9-84ae-a2e7d9143db3",
   "metadata": {},
   "outputs": [
    {
     "name": "stdout",
     "output_type": "stream",
     "text": [
      "gameId                            int64\n",
      "blueWins                          int64\n",
      "blueWardsPlaced                   int64\n",
      "blueWardsDestroyed                int64\n",
      "blueFirstBlood                    int64\n",
      "blueKills                         int64\n",
      "blueDeaths                        int64\n",
      "blueAssists                       int64\n",
      "blueEliteMonsters                 int64\n",
      "blueDragons                       int64\n",
      "blueHeralds                       int64\n",
      "blueTowersDestroyed               int64\n",
      "blueTotalGold                     int64\n",
      "blueAvgLevel                    float64\n",
      "blueTotalExperience               int64\n",
      "blueTotalMinionsKilled            int64\n",
      "blueTotalJungleMinionsKilled      int64\n",
      "blueGoldDiff                      int64\n",
      "blueExperienceDiff                int64\n",
      "blueCSPerMin                    float64\n",
      "blueGoldPerMin                  float64\n",
      "redWardsPlaced                    int64\n",
      "redWardsDestroyed                 int64\n",
      "redFirstBlood                     int64\n",
      "redKills                          int64\n",
      "redDeaths                         int64\n",
      "redAssists                        int64\n",
      "redEliteMonsters                  int64\n",
      "redDragons                        int64\n",
      "redHeralds                        int64\n",
      "redTowersDestroyed                int64\n",
      "redTotalGold                      int64\n",
      "redAvgLevel                     float64\n",
      "redTotalExperience                int64\n",
      "redTotalMinionsKilled             int64\n",
      "redTotalJungleMinionsKilled       int64\n",
      "redGoldDiff                       int64\n",
      "redExperienceDiff                 int64\n",
      "redCSPerMin                     float64\n",
      "redGoldPerMin                   float64\n",
      "dtype: object\n"
     ]
    }
   ],
   "source": [
    "tipos_de_datos = df.dtypes\n",
    "print(tipos_de_datos)"
   ]
  },
  {
   "cell_type": "code",
   "execution_count": 6,
   "id": "1bfd5dba-f52a-4be9-8159-5d96bdbc6668",
   "metadata": {},
   "outputs": [
    {
     "data": {
      "text/plain": [
       "0"
      ]
     },
     "execution_count": 6,
     "metadata": {},
     "output_type": "execute_result"
    }
   ],
   "source": [
    "df.duplicated().sum()"
   ]
  },
  {
   "cell_type": "code",
   "execution_count": 7,
   "id": "916db039-d61f-4c3d-a6f8-f75e614bb60a",
   "metadata": {},
   "outputs": [
    {
     "name": "stdout",
     "output_type": "stream",
     "text": [
      "<class 'pandas.core.frame.DataFrame'>\n",
      "RangeIndex: 9879 entries, 0 to 9878\n",
      "Data columns (total 40 columns):\n",
      " #   Column                        Non-Null Count  Dtype  \n",
      "---  ------                        --------------  -----  \n",
      " 0   gameId                        9879 non-null   int64  \n",
      " 1   blueWins                      9879 non-null   int64  \n",
      " 2   blueWardsPlaced               9879 non-null   int64  \n",
      " 3   blueWardsDestroyed            9879 non-null   int64  \n",
      " 4   blueFirstBlood                9879 non-null   int64  \n",
      " 5   blueKills                     9879 non-null   int64  \n",
      " 6   blueDeaths                    9879 non-null   int64  \n",
      " 7   blueAssists                   9879 non-null   int64  \n",
      " 8   blueEliteMonsters             9879 non-null   int64  \n",
      " 9   blueDragons                   9879 non-null   int64  \n",
      " 10  blueHeralds                   9879 non-null   int64  \n",
      " 11  blueTowersDestroyed           9879 non-null   int64  \n",
      " 12  blueTotalGold                 9879 non-null   int64  \n",
      " 13  blueAvgLevel                  9879 non-null   float64\n",
      " 14  blueTotalExperience           9879 non-null   int64  \n",
      " 15  blueTotalMinionsKilled        9879 non-null   int64  \n",
      " 16  blueTotalJungleMinionsKilled  9879 non-null   int64  \n",
      " 17  blueGoldDiff                  9879 non-null   int64  \n",
      " 18  blueExperienceDiff            9879 non-null   int64  \n",
      " 19  blueCSPerMin                  9879 non-null   float64\n",
      " 20  blueGoldPerMin                9879 non-null   float64\n",
      " 21  redWardsPlaced                9879 non-null   int64  \n",
      " 22  redWardsDestroyed             9879 non-null   int64  \n",
      " 23  redFirstBlood                 9879 non-null   int64  \n",
      " 24  redKills                      9879 non-null   int64  \n",
      " 25  redDeaths                     9879 non-null   int64  \n",
      " 26  redAssists                    9879 non-null   int64  \n",
      " 27  redEliteMonsters              9879 non-null   int64  \n",
      " 28  redDragons                    9879 non-null   int64  \n",
      " 29  redHeralds                    9879 non-null   int64  \n",
      " 30  redTowersDestroyed            9879 non-null   int64  \n",
      " 31  redTotalGold                  9879 non-null   int64  \n",
      " 32  redAvgLevel                   9879 non-null   float64\n",
      " 33  redTotalExperience            9879 non-null   int64  \n",
      " 34  redTotalMinionsKilled         9879 non-null   int64  \n",
      " 35  redTotalJungleMinionsKilled   9879 non-null   int64  \n",
      " 36  redGoldDiff                   9879 non-null   int64  \n",
      " 37  redExperienceDiff             9879 non-null   int64  \n",
      " 38  redCSPerMin                   9879 non-null   float64\n",
      " 39  redGoldPerMin                 9879 non-null   float64\n",
      "dtypes: float64(6), int64(34)\n",
      "memory usage: 3.0 MB\n"
     ]
    }
   ],
   "source": [
    "df.info()"
   ]
  },
  {
   "cell_type": "markdown",
   "id": "4782916d-0e0f-456e-a7ee-2b091dad00f7",
   "metadata": {},
   "source": [
    "Revisión de balanceo del dataset"
   ]
  },
  {
   "cell_type": "code",
   "execution_count": 8,
   "id": "5077c090-4caf-4ba4-9416-2b339b6edf4e",
   "metadata": {},
   "outputs": [
    {
     "name": "stdout",
     "output_type": "stream",
     "text": [
      "blueWins\n",
      "0    4949\n",
      "1    4930\n",
      "Name: count, dtype: int64\n"
     ]
    },
    {
     "data": {
      "image/png": "[encoded data removed]",
      "text/plain": [
       "<Figure size 640x480 with 1 Axes>"
      ]
     },
     "metadata": {},
     "output_type": "display_data"
    },
    {
     "name": "stdout",
     "output_type": "stream",
     "text": [
      "blueWins\n",
      "0    50.096164\n",
      "1    49.903836\n",
      "Name: proportion, dtype: float64\n"
     ]
    }
   ],
   "source": [
    "class_distribution = df['blueWins'].value_counts()\n",
    "print(class_distribution)\n",
    "\n",
    "df['blueWins'].value_counts().plot(kind='bar', color=['blue', 'orange'])\n",
    "plt.title('Distribución de Clases')\n",
    "plt.xlabel('Clase')\n",
    "plt.ylabel('Frecuencia')\n",
    "plt.show()\n",
    "\n",
    "class_percentage = df['blueWins'].value_counts(normalize=True) * 100\n",
    "print(class_percentage)"
   ]
  },
  {
   "cell_type": "markdown",
   "id": "b0b86f7a-4944-46ca-bd61-bd1cb73c4a4c",
   "metadata": {},
   "source": [
    "Escalar variables"
   ]
  },
  {
   "cell_type": "code",
   "execution_count": 9,
   "id": "b5b3afc7-3603-4f69-9711-388d06abf3b7",
   "metadata": {},
   "outputs": [],
   "source": [
    "variables_toScale = ['blueWardsPlaced', 'blueWardsDestroyed', 'blueKills', 'blueDeaths', 'blueAssists',\n",
    "                     'blueTotalGold', 'blueAvgLevel', 'blueTotalExperience', 'blueTotalMinionsKilled',\n",
    "                     'blueTotalJungleMinionsKilled', 'blueGoldDiff', 'blueExperienceDiff', 'blueCSPerMin',\n",
    "                     'blueGoldPerMin', 'redWardsPlaced', 'redWardsDestroyed', 'redKills', 'redDeaths',\n",
    "                     'redAssists', 'redTotalGold', 'redAvgLevel', 'redTotalExperience', 'redTotalMinionsKilled',\n",
    "                     'redTotalJungleMinionsKilled', 'redGoldDiff', 'redExperienceDiff', 'redCSPerMin',\n",
    "                     'redGoldPerMin']\n",
    "\n",
    "scaler = StandardScaler()\n",
    "\n",
    "# Escalar las variables numericas\n",
    "df[variables_toScale] = scaler.fit_transform(df[variables_toScale])"
   ]
  },
  {
   "cell_type": "code",
   "execution_count": 10,
   "id": "eab059e7-e3cb-41e8-9343-9e5e85cffaab",
   "metadata": {},
   "outputs": [
    {
     "data": {
      "text/html": [
       "<div>\n",
       "<style scoped>\n",
       "    .dataframe tbody tr th:only-of-type {\n",
       "        vertical-align: middle;\n",
       "    }\n",
       "\n",
       "    .dataframe tbody tr th {\n",
       "        vertical-align: top;\n",
       "    }\n",
       "\n",
       "    .dataframe thead th {\n",
       "        text-align: right;\n",
       "    }\n",
       "</style>\n",
       "<table border=\"1\" class=\"dataframe\">\n",
       "  <thead>\n",
       "    <tr style=\"text-align: right;\">\n",
       "      <th></th>\n",
       "      <th>gameId</th>\n",
       "      <th>blueWins</th>\n",
       "      <th>blueWardsPlaced</th>\n",
       "      <th>blueWardsDestroyed</th>\n",
       "      <th>blueFirstBlood</th>\n",
       "      <th>blueKills</th>\n",
       "      <th>blueDeaths</th>\n",
       "      <th>blueAssists</th>\n",
       "      <th>blueEliteMonsters</th>\n",
       "      <th>blueDragons</th>\n",
       "      <th>...</th>\n",
       "      <th>redTowersDestroyed</th>\n",
       "      <th>redTotalGold</th>\n",
       "      <th>redAvgLevel</th>\n",
       "      <th>redTotalExperience</th>\n",
       "      <th>redTotalMinionsKilled</th>\n",
       "      <th>redTotalJungleMinionsKilled</th>\n",
       "      <th>redGoldDiff</th>\n",
       "      <th>redExperienceDiff</th>\n",
       "      <th>redCSPerMin</th>\n",
       "      <th>redGoldPerMin</th>\n",
       "    </tr>\n",
       "  </thead>\n",
       "  <tbody>\n",
       "    <tr>\n",
       "      <th>0</th>\n",
       "      <td>4519157822</td>\n",
       "      <td>0</td>\n",
       "      <td>0.316996</td>\n",
       "      <td>-0.379275</td>\n",
       "      <td>1</td>\n",
       "      <td>0.935301</td>\n",
       "      <td>-0.046926</td>\n",
       "      <td>1.071495</td>\n",
       "      <td>0</td>\n",
       "      <td>0</td>\n",
       "      <td>...</td>\n",
       "      <td>0</td>\n",
       "      <td>0.052293</td>\n",
       "      <td>-0.410475</td>\n",
       "      <td>-0.763215</td>\n",
       "      <td>-0.928741</td>\n",
       "      <td>0.367685</td>\n",
       "      <td>-0.256228</td>\n",
       "      <td>-0.013342</td>\n",
       "      <td>-0.928741</td>\n",
       "      <td>0.052293</td>\n",
       "    </tr>\n",
       "    <tr>\n",
       "      <th>1</th>\n",
       "      <td>4523371949</td>\n",
       "      <td>0</td>\n",
       "      <td>-0.570992</td>\n",
       "      <td>-0.839069</td>\n",
       "      <td>0</td>\n",
       "      <td>-0.393216</td>\n",
       "      <td>-0.387796</td>\n",
       "      <td>-0.404768</td>\n",
       "      <td>0</td>\n",
       "      <td>0</td>\n",
       "      <td>...</td>\n",
       "      <td>1</td>\n",
       "      <td>0.758619</td>\n",
       "      <td>-0.410475</td>\n",
       "      <td>-0.436980</td>\n",
       "      <td>1.033784</td>\n",
       "      <td>0.068504</td>\n",
       "      <td>1.191254</td>\n",
       "      <td>0.593342</td>\n",
       "      <td>1.033784</td>\n",
       "      <td>0.758619</td>\n",
       "    </tr>\n",
       "  </tbody>\n",
       "</table>\n",
       "<p>2 rows × 40 columns</p>\n",
       "</div>"
      ],
      "text/plain": [
       "       gameId  blueWins  blueWardsPlaced  blueWardsDestroyed  blueFirstBlood  \\\n",
       "0  4519157822         0         0.316996           -0.379275               1   \n",
       "1  4523371949         0        -0.570992           -0.839069               0   \n",
       "\n",
       "   blueKills  blueDeaths  blueAssists  blueEliteMonsters  blueDragons  ...  \\\n",
       "0   0.935301   -0.046926     1.071495                  0            0  ...   \n",
       "1  -0.393216   -0.387796    -0.404768                  0            0  ...   \n",
       "\n",
       "   redTowersDestroyed  redTotalGold  redAvgLevel  redTotalExperience  \\\n",
       "0                   0      0.052293    -0.410475           -0.763215   \n",
       "1                   1      0.758619    -0.410475           -0.436980   \n",
       "\n",
       "   redTotalMinionsKilled  redTotalJungleMinionsKilled  redGoldDiff  \\\n",
       "0              -0.928741                     0.367685    -0.256228   \n",
       "1               1.033784                     0.068504     1.191254   \n",
       "\n",
       "   redExperienceDiff  redCSPerMin  redGoldPerMin  \n",
       "0          -0.013342    -0.928741       0.052293  \n",
       "1           0.593342     1.033784       0.758619  \n",
       "\n",
       "[2 rows x 40 columns]"
      ]
     },
     "execution_count": 10,
     "metadata": {},
     "output_type": "execute_result"
    }
   ],
   "source": [
    "df.head(2)"
   ]
  },
  {
   "cell_type": "markdown",
   "id": "9545b939-fee4-4f9a-9a13-b8073a8611c1",
   "metadata": {},
   "source": [
    "#### Técnicas de Feature Selection - Random Forest | Análisis de Componentes Principales | Selección Univariable"
   ]
  },
  {
   "cell_type": "code",
   "execution_count": 17,
   "id": "366474db-dbfe-49a8-a3fa-078cccb8141d",
   "metadata": {},
   "outputs": [],
   "source": [
    "import numpy as np\n",
    "import pandas as pd\n",
    "import matplotlib.pyplot as plt\n",
    "import seaborn as sns\n",
    "from sklearn.preprocessing import StandardScaler\n",
    "from sklearn.model_selection import train_test_split\n",
    "from sklearn.ensemble import RandomForestClassifier\n",
    "from sklearn.metrics import accuracy_score, precision_score, recall_score, f1_score, confusion_matrix\n",
    "from sklearn.decomposition import PCA\n",
    "from sklearn.svm import SVC\n",
    "from sklearn.feature_selection import SelectKBest, f_classif\n",
    "\n",
    "# Carga del conjunto de datos\n",
    "df = pd.read_csv(\"loldataset.csv\", sep=\",\")\n",
    "\n",
    "# Definir variables predictoras (X) y variable objetivo (y)\n",
    "X = df.drop(\"blueWins\", axis=1)\n",
    "y = df[\"blueWins\"]\n",
    "\n",
    "# Dividir el conjunto de datos en entrenamiento y prueba\n",
    "X_train, X_test, y_train, y_test = train_test_split(X, y, test_size=0.2, random_state=42)\n",
    "\n",
    "# Escalar las características\n",
    "scaler = StandardScaler()\n",
    "X_train_scaled = scaler.fit_transform(X_train)\n",
    "X_test_scaled = scaler.transform(X_test)\n",
    "\n",
    "# Función para evaluar el rendimiento del modelo\n",
    "def evaluate_model(model, X_train, X_test, y_train, y_test):\n",
    "    model.fit(X_train, y_train)\n",
    "    y_pred = model.predict(X_test)\n",
    "    \n",
    "    accuracy = accuracy_score(y_test, y_pred)\n",
    "    precision = precision_score(y_test, y_pred)\n",
    "    recall = recall_score(y_test, y_pred)\n",
    "    f1 = f1_score(y_test, y_pred)\n",
    "    \n",
    "    return accuracy, precision, recall, f1\n",
    "\n",
    "# 1. Selección de Características Basada en Importancia (Random Forest)\n",
    "rf_model = RandomForestClassifier(random_state=42)\n",
    "rf_model.fit(X_train_scaled, y_train)\n",
    "\n",
    "# Seleccionar las características más importantes\n",
    "important_features = X.columns[rf_model.feature_importances_ > 0.01]\n",
    "\n",
    "# Convertir matrices a DataFrames\n",
    "X_train_scaled_df = pd.DataFrame(X_train_scaled, columns=X.columns)\n",
    "X_test_scaled_df = pd.DataFrame(X_test_scaled, columns=X.columns)\n",
    "\n",
    "# Aplicar la selección de características\n",
    "X_train_rf = X_train_scaled_df.loc[:, important_features]\n",
    "X_test_rf = X_test_scaled_df.loc[:, important_features]\n",
    "\n",
    "\n",
    "# Evaluar el rendimiento del modelo con la selección de características\n",
    "svm_rf = SVC(random_state=42)\n",
    "accuracy_rf, precision_rf, recall_rf, f1_rf = evaluate_model(svm_rf, X_train_rf, X_test_rf, y_train, y_test)\n",
    "\n",
    "# 2. Análisis de Componentes Principales (PCA)\n",
    "pca = PCA(n_components=5)\n",
    "X_train_pca = pca.fit_transform(X_train_scaled)\n",
    "X_test_pca = pca.transform(X_test_scaled)\n",
    "\n",
    "# Evaluar el rendimiento del modelo con PCA\n",
    "svm_pca = SVC(random_state=42)\n",
    "accuracy_pca, precision_pca, recall_pca, f1_pca = evaluate_model(svm_pca, X_train_pca, X_test_pca, y_train, y_test)\n",
    "\n",
    "# 3. Selección Univariable (SelectKBest con ANOVA)\n",
    "kbest = SelectKBest(f_classif, k=10)\n",
    "X_train_kbest = kbest.fit_transform(X_train_scaled, y_train)\n",
    "X_test_kbest = kbest.transform(X_test_scaled)\n",
    "\n",
    "# Evaluar el rendimiento del modelo con SelectKBest\n",
    "svm_kbest = SVC(random_state=42)\n",
    "accuracy_kbest, precision_kbest, recall_kbest, f1_kbest = evaluate_model(svm_kbest, X_train_kbest, X_test_kbest, y_train, y_test)"
   ]
  },
  {
   "cell_type": "code",
   "execution_count": 18,
   "id": "58f14fbf-f207-4a18-9a17-6c0f0d085e70",
   "metadata": {},
   "outputs": [
    {
     "name": "stdout",
     "output_type": "stream",
     "text": [
      "Rendimiento del modelo con Análisis de Componentes Principales (PCA):\n",
      "Accuracy: 0.7231781376518218\n",
      "Precision: 0.7275510204081632\n",
      "Recall: 0.7180261832829808\n",
      "F1 Score: 0.7227572225038014\n",
      "\n"
     ]
    },
    {
     "data": {
      "image/png": "[encoded data removed]",
      "text/plain": [
       "<Figure size 800x600 with 1 Axes>"
      ]
     },
     "metadata": {},
     "output_type": "display_data"
    }
   ],
   "source": [
    "#-------------------------------------------------------------------------------------------------------------------------------------------\n",
    "\n",
    "print(\"Rendimiento del modelo con Análisis de Componentes Principales (PCA):\")\n",
    "print(\"Accuracy:\", accuracy_pca)\n",
    "print(\"Precision:\", precision_pca)\n",
    "print(\"Recall:\", recall_pca)\n",
    "print(\"F1 Score:\", f1_pca)\n",
    "print()\n",
    "\n",
    "# Matriz de Confusión - Análisis de Componentes Principales (PCA)\n",
    "conf_matrix_pca = confusion_matrix(y_test, svm_pca.predict(X_test_pca))\n",
    "\n",
    "plt.figure(figsize=(8, 6))\n",
    "sns.heatmap(conf_matrix_pca, annot=True, cmap='Blues', fmt='d', cbar=False, xticklabels=['Red Wins', 'Blue Wins'], yticklabels=['Red Wins', 'Blue Wins'])\n",
    "plt.xlabel('Valores Predecidos')\n",
    "plt.ylabel('Valores Verdaderos')\n",
    "plt.title('Matriz de Confusión - Análisis de Componentes Principales (PCA)')\n",
    "plt.show()\n",
    "\n",
    "#-------------------------------------------------------------------------------------------------------------------------------------------"
   ]
  },
  {
   "cell_type": "code",
   "execution_count": 19,
   "id": "9fed9353-2e4e-44ed-b4bd-91ac9b915547",
   "metadata": {},
   "outputs": [
    {
     "name": "stdout",
     "output_type": "stream",
     "text": [
      "Rendimiento del modelo con Selección de Características Basada en Importancia (Random Forest):\n",
      "Accuracy: 0.72165991902834\n",
      "Precision: 0.7271794871794872\n",
      "Recall: 0.7139979859013091\n",
      "F1 Score: 0.7205284552845529\n",
      "\n"
     ]
    },
    {
     "data": {
      "image/png": "[encoded data removed]",
      "text/plain": [
       "<Figure size 800x600 with 1 Axes>"
      ]
     },
     "metadata": {},
     "output_type": "display_data"
    }
   ],
   "source": [
    "#-------------------------------------------------------------------------------------------------------------------------------------------\n",
    "print(\"Rendimiento del modelo con Selección de Características Basada en Importancia (Random Forest):\")\n",
    "print(\"Accuracy:\", accuracy_rf)\n",
    "print(\"Precision:\", precision_rf)\n",
    "print(\"Recall:\", recall_rf)\n",
    "print(\"F1 Score:\", f1_rf)\n",
    "print()\n",
    "\n",
    "# Matriz de Confusión - Selección de Características Basada en Importancia (Random Forest)\n",
    "conf_matrix_rf = confusion_matrix(y_test, svm_rf.predict(X_test_rf))\n",
    "\n",
    "plt.figure(figsize=(8, 6))\n",
    "sns.heatmap(conf_matrix_rf, annot=True, cmap='Blues', fmt='d', cbar=False, xticklabels=['Red Wins', 'Blue Wins'], yticklabels=['Red Wins', 'Blue Wins'])\n",
    "plt.xlabel('Valores Predecidos')\n",
    "plt.ylabel('Valores Verdaderos')\n",
    "plt.title('Matriz de Confusión - Selección de Características Basada en Importancia (Random Forest)')\n",
    "plt.show()"
   ]
  },
  {
   "cell_type": "code",
   "execution_count": 20,
   "id": "9ebe15f5-42bf-408d-b627-f0613d6597be",
   "metadata": {},
   "outputs": [
    {
     "name": "stdout",
     "output_type": "stream",
     "text": [
      "Rendimiento del modelo con Selección Univariable (SelectKBest con ANOVA):\n",
      "Accuracy: 0.72165991902834\n",
      "Precision: 0.7276464542651593\n",
      "Recall: 0.7129909365558912\n",
      "F1 Score: 0.7202441505595117\n"
     ]
    },
    {
     "data": {
      "image/png": "[encoded data removed]",
      "text/plain": [
       "<Figure size 800x600 with 1 Axes>"
      ]
     },
     "metadata": {},
     "output_type": "display_data"
    }
   ],
   "source": [
    "print(\"Rendimiento del modelo con Selección Univariable (SelectKBest con ANOVA):\")\n",
    "print(\"Accuracy:\", accuracy_kbest)\n",
    "print(\"Precision:\", precision_kbest)\n",
    "print(\"Recall:\", recall_kbest)\n",
    "print(\"F1 Score:\", f1_kbest)\n",
    "\n",
    "# Matriz de Confusión - Selección Univariable (SelectKBest con ANOVA)\n",
    "conf_matrix_kbest = confusion_matrix(y_test, svm_kbest.predict(X_test_kbest))\n",
    "\n",
    "plt.figure(figsize=(8, 6))\n",
    "sns.heatmap(conf_matrix_kbest, annot=True, cmap='Blues', fmt='d', cbar=False, xticklabels=['Red Wins', 'Blue Wins'], yticklabels=['Red Wins', 'Blue Wins'])\n",
    "plt.xlabel('Valores Predecidos')\n",
    "plt.ylabel('Valores Verdaderos')\n",
    "plt.title('Matriz de Confusión - Selección Univariable (SelectKBest con ANOVA)')\n",
    "plt.show()"
   ]
  },
  {
   "cell_type": "markdown",
   "id": "838c0a0d-5a8c-4125-9aad-e52cea06fb4b",
   "metadata": {},
   "source": [
    "#### Conclusiones"
   ]
  },
  {
   "cell_type": "markdown",
   "id": "42736bcf-c23c-4035-91ce-6fa756613fcc",
   "metadata": {},
   "source": [
    "Los resultados en términos de Accuracy son bastante similares para todas las técnicas, con diferencias mínimas.\n",
    "En cuanto a Precision, Recall y F1 Score, también hay similitudes, pero algunas técnicas muestran un rendimiento ligeramente superior en ciertos aspectos. En general, no hay una técnica que sea claramente superior en todos los aspectos. La elección entre ellas puede depender de las características específicas del conjunto de datos. "
   ]
  },
  {
   "cell_type": "code",
   "execution_count": null,
   "id": "ca5d6323-7330-4c7b-b4e2-b545ff22ccaa",
   "metadata": {},
   "outputs": [],
   "source": []
  }
 ],
 "metadata": {
  "kernelspec": {
   "display_name": "Python 3 (ipykernel)",
   "language": "python",
   "name": "python3"
  },
  "language_info": {
   "codemirror_mode": {
    "name": "ipython",
    "version": 3
   },
   "file_extension": ".py",
   "mimetype": "text/x-python",
   "name": "python",
   "nbconvert_exporter": "python",
   "pygments_lexer": "ipython3",
   "version": "3.12.1"
  }
 },
 "nbformat": 4,
 "nbformat_minor": 5
}
