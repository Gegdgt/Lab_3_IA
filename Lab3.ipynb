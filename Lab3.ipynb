{
 "cells": [
  {
   "cell_type": "markdown",
   "id": "63d5254b-e0b9-458e-affb-91154a5792b4",
   "metadata": {},
   "source": [
    "## Task 1"
   ]
  },
  {
   "cell_type": "markdown",
   "id": "e31ca1e6-0eed-4cc2-8608-fac068a8960b",
   "metadata": {},
   "source": [
    "1. Explique la diferencia entre descenso de gradiente, descenso de gradiente por mini batches y descenso de gradiente estocástico. Asegúrese de mencionar las ventajas y desventajas de cada enfoque."
   ]
  },
  {
   "cell_type": "markdown",
   "id": "314e1c89-0f61-4b27-9a29-b08270ca461d",
   "metadata": {},
   "source": [
    "Descenso de Gradiente \n",
    "Es un metodo en el cual se calcula el gradiente de la funcion de costo con respecto a los parametros utilizando el conjunto de datos de entrenamiento.\n",
    "\n",
    "Ventajas\n",
    "- Tener una convergencia estable, ya que al utilizar todo el conjunto de datos el descenso del gradiente batch tiende a tener una convergencia mas estabale hacia el minimo global de la funcion de costo.\n",
    "- Aprovecha eficientemente el hardware, ya que este aprovecha las operaciones vectorizadas dentro de el para procesar conjuntos de datos de una buena manera.\n",
    "- \n",
    "Desventajas\n",
    "- Estas estan asociadas mas que nada por su costo, ya que el calculo del gradiente para todo el conjunto de datos puede ser intensivo en la memoria, especial para los conjuntos grandes.\n",
    "-  Requiere de mas tiempo para cada iteracion.\n",
    "\n",
    "Descenso de gradiente por Mini Batches \n",
    "Este se divide en un conjunto de datos separados por pequeños lotes y calcular el gradiente utilizando un solo lote en cada iteración.\n",
    "\n",
    "Ventajas\n",
    "- Consume una menor cantidad de memoria, ya que al utilizar lotes pequeños, se reduce el requisito de memoria.\n",
    "- Permite cierto grado de paralelización, ya que los gradientes pueden calcularse al mismo tiempo.\n",
    "\n",
    "Desventajas\n",
    "- La convergencia puede ser mas ruidosa por la variabilidad introducida por los mini lotes.\n",
    "- Requiere que el usuario ajuste el tamaño de los mini lotes.\n",
    "\n",
    "Descenso de Gradiente Estocástico \n",
    "Se utiliza un unico ejemplo de entrenamiento para poder calcular el gradiente en cada iteración.\n",
    "\n",
    "Ventajas\n",
    "- Es el mas eficiente de los tres, ya que solo necesita un ejemplo, esto permite calcular facilmente una gran cantidad de datos.\n",
    "- Menor cantidad de memoria, ya que al necesitar solo un ejemplo para ser entrenado, no seguira consumiendo memoria.\n",
    "\n",
    "Desventajas\n",
    "- La variabilidad delcalculo del gradiente por medio de un solo ejemplo puede hacer que sea mas ruidosa.\n",
    "- Es menos eficiente  para el hardware especializado, ya que puede que no aproveche las operaciones vectorizadas."
   ]
  },
  {
   "cell_type": "markdown",
   "id": "73dc955a-3282-4876-8ae6-4c423a3b5d70",
   "metadata": {},
   "source": [
    "2. Compare y contraste técnicas de extracción de features (feature extraction) y selección de features (feature selection) en machine learning. De ejemplos de escenarios donde cada técnica sería más apropiada."
   ]
  },
  {
   "cell_type": "markdown",
   "id": "79420eeb-0dcd-4336-b76a-311e583c97f9",
   "metadata": {},
   "source": []
  },
  {
   "cell_type": "markdown",
   "id": "16085db7-3473-49d5-b0e3-1185daf2efa6",
   "metadata": {},
   "source": [
    "3. Describa la arquitectura y el funcionamiento de un perceptrón de una sola capa (un tipo de red neuronal sin\n",
    "backpropagation). Explique cómo aprende y la forma en la que actualiza sus parámetros"
   ]
  },
  {
   "cell_type": "markdown",
   "id": "b8b93905-da04-4096-b597-436ce3d4a661",
   "metadata": {},
   "source": [
    "R/"
   ]
  },
  {
   "cell_type": "markdown",
   "id": "80166723-783b-46fc-814d-9945748f321b",
   "metadata": {},
   "source": [
    "## Task 2"
   ]
  },
  {
   "cell_type": "code",
   "execution_count": null,
   "id": "625ab8ab-8b91-4a6b-bcd6-3a1ef371f0dd",
   "metadata": {},
   "outputs": [],
   "source": []
  }
 ],
 "metadata": {
  "kernelspec": {
   "display_name": "Python 3 (ipykernel)",
   "language": "python",
   "name": "python3"
  },
  "language_info": {
   "codemirror_mode": {
    "name": "ipython",
    "version": 3
   },
   "file_extension": ".py",
   "mimetype": "text/x-python",
   "name": "python",
   "nbconvert_exporter": "python",
   "pygments_lexer": "ipython3",
   "version": "3.10.2"
  }
 },
 "nbformat": 4,
 "nbformat_minor": 5
}
